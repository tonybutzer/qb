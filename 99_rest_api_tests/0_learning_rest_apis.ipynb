{
 "cells": [
  {
   "cell_type": "markdown",
   "id": "72621e7b-ddc2-4e85-ac4d-f9a275195953",
   "metadata": {},
   "source": [
    "# References\n",
    "\n",
    "- https://www.youtube.com/watch?v=e5oOvU0VWBQ\n",
    "    - remove duplicates pandas\n",
    "\n",
    "rest api study with pyTest\n",
    "- https://www.youtube.com/watch?v=7dgQRVqF1N0&t=7s"
   ]
  },
  {
   "cell_type": "code",
   "execution_count": null,
   "id": "20c39782-e6ce-492d-9209-3d53ac085774",
   "metadata": {},
   "outputs": [],
   "source": []
  }
 ],
 "metadata": {
  "kernelspec": {
   "display_name": "Python 3 (ipykernel)",
   "language": "python",
   "name": "python3"
  },
  "language_info": {
   "codemirror_mode": {
    "name": "ipython",
    "version": 3
   },
   "file_extension": ".py",
   "mimetype": "text/x-python",
   "name": "python",
   "nbconvert_exporter": "python",
   "pygments_lexer": "ipython3",
   "version": "3.11.6"
  }
 },
 "nbformat": 4,
 "nbformat_minor": 5
}
