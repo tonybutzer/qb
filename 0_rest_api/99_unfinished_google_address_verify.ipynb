{
 "cells": [
  {
   "cell_type": "code",
   "execution_count": 1,
   "id": "65b24573-411b-473c-b0cc-17283a570b3a",
   "metadata": {},
   "outputs": [],
   "source": [
    "google_url='https://addressvalidation.googleapis.com/v1:validateAddress'\n",
    "google_url='https://addressvalidation.googleapis.com/v1:validateAddress'"
   ]
  },
  {
   "cell_type": "code",
   "execution_count": 2,
   "id": "0b5f7b57-e85c-40c3-a4d3-b4877c3879b7",
   "metadata": {},
   "outputs": [],
   "source": [
    "import requests\n"
   ]
  },
  {
   "cell_type": "code",
   "execution_count": null,
   "id": "3ff2ccba-844a-4e4a-b7ab-7dac67fec2a5",
   "metadata": {},
   "outputs": [],
   "source": [
    "def test_can_create_task():\n",
    "    payload = {\n",
    "      \"content\": \"tutorial on pytest and rest\",\n",
    "      \"user_id\": \"tony_b\",\n",
    "      \"task_id\": \"001\",\n",
    "      \"is_done\": False,\n",
    "    }\n",
    "    c_response = requests.put(google_url + \"/validate_address\", json=payload)\n",
    "    assert c_response.status_code == 200\n",
    "    data = c_response.json()\n",
    "    print(data)"
   ]
  }
 ],
 "metadata": {
  "kernelspec": {
   "display_name": "Python 3 (ipykernel)",
   "language": "python",
   "name": "python3"
  },
  "language_info": {
   "codemirror_mode": {
    "name": "ipython",
    "version": 3
   },
   "file_extension": ".py",
   "mimetype": "text/x-python",
   "name": "python",
   "nbconvert_exporter": "python",
   "pygments_lexer": "ipython3",
   "version": "3.11.6"
  }
 },
 "nbformat": 4,
 "nbformat_minor": 5
}
