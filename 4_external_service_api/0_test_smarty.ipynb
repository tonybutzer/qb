{
 "cells": [
  {
   "cell_type": "code",
   "execution_count": 1,
   "id": "ab68493a-0e99-4691-b4d4-f8d3b0735453",
   "metadata": {},
   "outputs": [
    {
     "name": "stdout",
     "output_type": "stream",
     "text": [
      "00_address_verify_12_28_2023.ipynb  outliers.csv\n",
      "0_postal_synthetic.ipynb\t    __pycache__\n",
      "11_logic_tester.ipynb\t\t    synthetic_two_company.csv\n",
      "address_match_proto.py\n"
     ]
    }
   ],
   "source": [
    "! ls ../3_postal_tests/"
   ]
  },
  {
   "cell_type": "code",
   "execution_count": 2,
   "id": "aea9d245-7420-4b2d-a371-813cfd80d244",
   "metadata": {},
   "outputs": [],
   "source": [
    "import pandas as pd"
   ]
  },
  {
   "cell_type": "code",
   "execution_count": 3,
   "id": "81a3b2f7-750b-48eb-9c8b-95e3d92723a2",
   "metadata": {},
   "outputs": [],
   "source": [
    "df = pd.read_csv('../3_postal_tests/outliers.csv')"
   ]
  },
  {
   "cell_type": "code",
   "execution_count": 4,
   "id": "f90d0383-ef46-4d81-a027-a4421e26e4f4",
   "metadata": {},
   "outputs": [
    {
     "data": {
      "text/html": [
       "<div>\n",
       "<style scoped>\n",
       "    .dataframe tbody tr th:only-of-type {\n",
       "        vertical-align: middle;\n",
       "    }\n",
       "\n",
       "    .dataframe tbody tr th {\n",
       "        vertical-align: top;\n",
       "    }\n",
       "\n",
       "    .dataframe thead th {\n",
       "        text-align: right;\n",
       "    }\n",
       "</style>\n",
       "<table border=\"1\" class=\"dataframe\">\n",
       "  <thead>\n",
       "    <tr style=\"text-align: right;\">\n",
       "      <th></th>\n",
       "      <th>Unnamed: 0</th>\n",
       "      <th>Vendor</th>\n",
       "      <th>Company</th>\n",
       "      <th>Street Address</th>\n",
       "      <th>City</th>\n",
       "      <th>State</th>\n",
       "      <th>Country</th>\n",
       "      <th>Zip</th>\n",
       "      <th>1099 Tracking</th>\n",
       "      <th>Phone</th>\n",
       "      <th>Email</th>\n",
       "      <th>Attachments</th>\n",
       "      <th>Open Balance</th>\n",
       "    </tr>\n",
       "  </thead>\n",
       "  <tbody>\n",
       "    <tr>\n",
       "      <th>0</th>\n",
       "      <td>0</td>\n",
       "      <td>Happy</td>\n",
       "      <td>NaN</td>\n",
       "      <td>410 4TH ST</td>\n",
       "      <td>CHESTER</td>\n",
       "      <td>SD</td>\n",
       "      <td>NaN</td>\n",
       "      <td>57016</td>\n",
       "      <td>NaN</td>\n",
       "      <td>NaN</td>\n",
       "      <td>NaN</td>\n",
       "      <td>NaN</td>\n",
       "      <td>0.0</td>\n",
       "    </tr>\n",
       "    <tr>\n",
       "      <th>1</th>\n",
       "      <td>1</td>\n",
       "      <td>Mahoney Mugs</td>\n",
       "      <td>Mahoney Mugs</td>\n",
       "      <td>108 MAIN ST</td>\n",
       "      <td>CROOKS</td>\n",
       "      <td>SD</td>\n",
       "      <td>NaN</td>\n",
       "      <td>57020</td>\n",
       "      <td>NaN</td>\n",
       "      <td>NaN</td>\n",
       "      <td>NaN</td>\n",
       "      <td>NaN</td>\n",
       "      <td>0.0</td>\n",
       "    </tr>\n",
       "    <tr>\n",
       "      <th>2</th>\n",
       "      <td>2</td>\n",
       "      <td>Met Life Dental</td>\n",
       "      <td>Met Life Dental</td>\n",
       "      <td>110 E US HIGHWAY 18</td>\n",
       "      <td>DAVIS</td>\n",
       "      <td>SD</td>\n",
       "      <td>NaN</td>\n",
       "      <td>57021</td>\n",
       "      <td>NaN</td>\n",
       "      <td>NaN</td>\n",
       "      <td>NaN</td>\n",
       "      <td>NaN</td>\n",
       "      <td>0.0</td>\n",
       "    </tr>\n",
       "    <tr>\n",
       "      <th>3</th>\n",
       "      <td>3</td>\n",
       "      <td>National Eye Care</td>\n",
       "      <td>National Eye Care</td>\n",
       "      <td>305 E 4TH ST</td>\n",
       "      <td>DELL RAPIDS</td>\n",
       "      <td>SD</td>\n",
       "      <td>NaN</td>\n",
       "      <td>57022</td>\n",
       "      <td>NaN</td>\n",
       "      <td>(800) 555-5555</td>\n",
       "      <td>Nateyecare@intuit.com, pauliejones15@intuit.com</td>\n",
       "      <td>NaN</td>\n",
       "      <td>0.0</td>\n",
       "    </tr>\n",
       "    <tr>\n",
       "      <th>4</th>\n",
       "      <td>4</td>\n",
       "      <td>Robertson &amp; Associates</td>\n",
       "      <td>Robertson &amp; Associates</td>\n",
       "      <td>320 LINCOLN AVE</td>\n",
       "      <td>FAIRVIEW</td>\n",
       "      <td>SD</td>\n",
       "      <td>NaN</td>\n",
       "      <td>57027</td>\n",
       "      <td>NaN</td>\n",
       "      <td>(650) 557-1111</td>\n",
       "      <td>NaN</td>\n",
       "      <td>NaN</td>\n",
       "      <td>315.0</td>\n",
       "    </tr>\n",
       "    <tr>\n",
       "      <th>5</th>\n",
       "      <td>5</td>\n",
       "      <td>Tony Rondonuwu</td>\n",
       "      <td>NaN</td>\n",
       "      <td>506 W 25TH ST</td>\n",
       "      <td>YANKTON</td>\n",
       "      <td>SD</td>\n",
       "      <td>NaN</td>\n",
       "      <td>57078</td>\n",
       "      <td>NaN</td>\n",
       "      <td>NaN</td>\n",
       "      <td>tonyrjr@intuit.com</td>\n",
       "      <td>NaN</td>\n",
       "      <td>0.0</td>\n",
       "    </tr>\n",
       "  </tbody>\n",
       "</table>\n",
       "</div>"
      ],
      "text/plain": [
       "   Unnamed: 0                  Vendor                 Company  \\\n",
       "0           0                   Happy                     NaN   \n",
       "1           1            Mahoney Mugs            Mahoney Mugs   \n",
       "2           2         Met Life Dental         Met Life Dental   \n",
       "3           3       National Eye Care       National Eye Care   \n",
       "4           4  Robertson & Associates  Robertson & Associates   \n",
       "5           5          Tony Rondonuwu                     NaN   \n",
       "\n",
       "        Street Address         City State  Country    Zip  1099 Tracking  \\\n",
       "0           410 4TH ST      CHESTER    SD      NaN  57016            NaN   \n",
       "1          108 MAIN ST       CROOKS    SD      NaN  57020            NaN   \n",
       "2  110 E US HIGHWAY 18        DAVIS    SD      NaN  57021            NaN   \n",
       "3         305 E 4TH ST  DELL RAPIDS    SD      NaN  57022            NaN   \n",
       "4      320 LINCOLN AVE     FAIRVIEW    SD      NaN  57027            NaN   \n",
       "5        506 W 25TH ST      YANKTON    SD      NaN  57078            NaN   \n",
       "\n",
       "            Phone                                            Email  \\\n",
       "0             NaN                                              NaN   \n",
       "1             NaN                                              NaN   \n",
       "2             NaN                                              NaN   \n",
       "3  (800) 555-5555  Nateyecare@intuit.com, pauliejones15@intuit.com   \n",
       "4  (650) 557-1111                                              NaN   \n",
       "5             NaN                               tonyrjr@intuit.com   \n",
       "\n",
       "   Attachments  Open Balance  \n",
       "0          NaN           0.0  \n",
       "1          NaN           0.0  \n",
       "2          NaN           0.0  \n",
       "3          NaN           0.0  \n",
       "4          NaN         315.0  \n",
       "5          NaN           0.0  "
      ]
     },
     "execution_count": 4,
     "metadata": {},
     "output_type": "execute_result"
    }
   ],
   "source": [
    "df.head(len(df))"
   ]
  },
  {
   "cell_type": "code",
   "execution_count": 5,
   "id": "cae15f69-0930-4f16-93d8-f1face2f8183",
   "metadata": {},
   "outputs": [],
   "source": [
    "def make_qb_dict(i,r):\n",
    "\n",
    "    qb_id = i\n",
    "    qb_vendor = r['Vendor']\n",
    "    qb_company = r['Company']\n",
    "    qb_street_address = r['Street Address']\n",
    "    qb_city = r['City']\n",
    "    qb_state = r['State']\n",
    "    qb_zip = r['Zip']\n",
    "\n",
    "    return (qb_id, qb_vendor, qb_company, qb_street_address, qb_city, qb_state, qb_zip)\n",
    "    "
   ]
  },
  {
   "cell_type": "code",
   "execution_count": 6,
   "id": "cebacce9-83ce-4171-9796-e8bd77cf1a29",
   "metadata": {},
   "outputs": [
    {
     "data": {
      "text/plain": [
       "Index(['Unnamed: 0', 'Vendor', 'Company', 'Street Address', 'City', 'State',\n",
       "       'Country', 'Zip', '1099 Tracking', 'Phone', 'Email', 'Attachments',\n",
       "       'Open Balance'],\n",
       "      dtype='object')"
      ]
     },
     "execution_count": 6,
     "metadata": {},
     "output_type": "execute_result"
    }
   ],
   "source": [
    "df_t = df.head(1)\n",
    "df_t.columns"
   ]
  },
  {
   "cell_type": "code",
   "execution_count": 7,
   "id": "95f750c1-bda4-4a0d-abeb-89eee1a566cd",
   "metadata": {},
   "outputs": [],
   "source": [
    "from smarty_api_functions import smarty_run"
   ]
  },
  {
   "cell_type": "code",
   "execution_count": 8,
   "id": "ada3d528-a9d1-4779-8750-ac173391b1c3",
   "metadata": {},
   "outputs": [
    {
     "data": {
      "text/plain": [
       "True"
      ]
     },
     "execution_count": 8,
     "metadata": {},
     "output_type": "execute_result"
    }
   ],
   "source": [
    "from dotenv import load_dotenv\n",
    "\n",
    "load_dotenv('/home/ec2-user/smarty_env.api')"
   ]
  },
  {
   "cell_type": "code",
   "execution_count": 9,
   "id": "f70108bc-8212-4029-b2e4-a96bc93c93bb",
   "metadata": {},
   "outputs": [],
   "source": [
    "#! echo $SMARTY_AUTH_WEB"
   ]
  },
  {
   "cell_type": "code",
   "execution_count": 10,
   "id": "64ee0563-d46b-4445-abbf-201311b748f8",
   "metadata": {},
   "outputs": [
    {
     "name": "stdout",
     "output_type": "stream",
     "text": [
      "0 Happy nan 410 4TH ST CHESTER SD 57016\n",
      "<smartystreets_python_sdk.us_street.candidate.Candidate object at 0x7fe3289c2ad0>\n",
      "There is at least one candidate.\n",
      "If the match parameter is set to STRICT, the address is valid.\n",
      "Otherwise, check the Analysis output fields to see if the address is valid.\n",
      "\n",
      "ZIP Code: 57016\n",
      "County: Lake\n",
      "Latitude: 43.89482\n",
      "Longitude: -96.92767\n"
     ]
    }
   ],
   "source": [
    "for i,r in df_t.iterrows():\n",
    "    (qb_id, qb_vendor, qb_company, qb_street_address, qb_city, qb_state, qb_zip) = make_qb_dict(i,r)\n",
    "    print(qb_id, qb_vendor, qb_company, qb_street_address, qb_city, qb_state, qb_zip)\n",
    "    result = smarty_run(qb_id, qb_vendor, qb_company, qb_street_address, qb_city, qb_state, qb_zip)"
   ]
  },
  {
   "cell_type": "markdown",
   "id": "7c2cba31-ebb5-4955-8b26-735a7f8ccb54",
   "metadata": {},
   "source": [
    "## curl http://ifconfig.me\n",
    "- 44.224.215.153"
   ]
  },
  {
   "cell_type": "code",
   "execution_count": 11,
   "id": "696eaca6-ef4f-411b-ba47-b5011aa1fc38",
   "metadata": {},
   "outputs": [],
   "source": [
    "c1 = result[0]"
   ]
  },
  {
   "cell_type": "code",
   "execution_count": 15,
   "id": "f9f948a3-0891-4d78-bec8-856d8e939028",
   "metadata": {},
   "outputs": [
    {
     "data": {
      "text/plain": [
       "'57016'"
      ]
     },
     "execution_count": 15,
     "metadata": {},
     "output_type": "execute_result"
    }
   ],
   "source": [
    "c1.components.zipcode"
   ]
  },
  {
   "cell_type": "code",
   "execution_count": 16,
   "id": "d59af995-b62d-4d60-9b37-e75a6f4bbba8",
   "metadata": {},
   "outputs": [
    {
     "data": {
      "text/plain": [
       "'Chester'"
      ]
     },
     "execution_count": 16,
     "metadata": {},
     "output_type": "execute_result"
    }
   ],
   "source": [
    "c1.components.default_city_name"
   ]
  },
  {
   "cell_type": "code",
   "execution_count": 17,
   "id": "94dd951c-0129-49b0-a7b7-fc971066e5f5",
   "metadata": {},
   "outputs": [
    {
     "data": {
      "text/plain": [
       "'Chester'"
      ]
     },
     "execution_count": 17,
     "metadata": {},
     "output_type": "execute_result"
    }
   ],
   "source": [
    "c1.components.city_name"
   ]
  },
  {
   "cell_type": "code",
   "execution_count": 19,
   "id": "b4966c17-cb41-4e87-a993-6ede7c0c294c",
   "metadata": {},
   "outputs": [
    {
     "ename": "TypeError",
     "evalue": "'Components' object is not iterable",
     "output_type": "error",
     "traceback": [
      "\u001b[0;31m---------------------------------------------------------------------------\u001b[0m",
      "\u001b[0;31mTypeError\u001b[0m                                 Traceback (most recent call last)",
      "Cell \u001b[0;32mIn[19], line 1\u001b[0m\n\u001b[0;32m----> 1\u001b[0m \u001b[38;5;28;43menumerate\u001b[39;49m\u001b[43m(\u001b[49m\u001b[43mc1\u001b[49m\u001b[38;5;241;43m.\u001b[39;49m\u001b[43mcomponents\u001b[49m\u001b[43m)\u001b[49m\n",
      "\u001b[0;31mTypeError\u001b[0m: 'Components' object is not iterable"
     ]
    }
   ],
   "source": [
    "enumerate(c1.components)"
   ]
  },
  {
   "cell_type": "code",
   "execution_count": 23,
   "id": "a18ccc12-b745-4b53-a4bb-5c477f01fda5",
   "metadata": {},
   "outputs": [],
   "source": [
    "# object_methods = [method_name for method_name in dir(c1.components)\n",
    "#                   if callable(getattr(c1.components, method_name))]"
   ]
  },
  {
   "cell_type": "code",
   "execution_count": 24,
   "id": "b5f9a7f8-0732-4454-b9c5-759e38189426",
   "metadata": {},
   "outputs": [
    {
     "data": {
      "text/plain": [
       "['__class__',\n",
       " '__delattr__',\n",
       " '__dict__',\n",
       " '__dir__',\n",
       " '__doc__',\n",
       " '__eq__',\n",
       " '__format__',\n",
       " '__ge__',\n",
       " '__getattribute__',\n",
       " '__getstate__',\n",
       " '__gt__',\n",
       " '__hash__',\n",
       " '__init__',\n",
       " '__init_subclass__',\n",
       " '__le__',\n",
       " '__lt__',\n",
       " '__module__',\n",
       " '__ne__',\n",
       " '__new__',\n",
       " '__reduce__',\n",
       " '__reduce_ex__',\n",
       " '__repr__',\n",
       " '__setattr__',\n",
       " '__sizeof__',\n",
       " '__str__',\n",
       " '__subclasshook__',\n",
       " '__weakref__',\n",
       " 'city_name',\n",
       " 'default_city_name',\n",
       " 'delivery_point',\n",
       " 'delivery_point_check_digit',\n",
       " 'extra_secondary_designator',\n",
       " 'extra_secondary_number',\n",
       " 'plus4_code',\n",
       " 'pmb_designator',\n",
       " 'pmb_number',\n",
       " 'primary_number',\n",
       " 'secondary_designator',\n",
       " 'secondary_number',\n",
       " 'state_abbreviation',\n",
       " 'street_name',\n",
       " 'street_postdirection',\n",
       " 'street_predirection',\n",
       " 'street_suffix',\n",
       " 'urbanization',\n",
       " 'zipcode']"
      ]
     },
     "execution_count": 24,
     "metadata": {},
     "output_type": "execute_result"
    }
   ],
   "source": [
    "dir(c1.components)"
   ]
  },
  {
   "cell_type": "code",
   "execution_count": 25,
   "id": "88ad7ff1-d0e1-463e-97ad-a1566d579af5",
   "metadata": {},
   "outputs": [
    {
     "data": {
      "text/plain": [
       "'10'"
      ]
     },
     "execution_count": 25,
     "metadata": {},
     "output_type": "execute_result"
    }
   ],
   "source": [
    "c1.components.delivery_point"
   ]
  },
  {
   "cell_type": "code",
   "execution_count": 26,
   "id": "9271a9b6-e426-4a01-bd02-d9ff0e2404f7",
   "metadata": {},
   "outputs": [
    {
     "data": {
      "text/plain": [
       "'9998'"
      ]
     },
     "execution_count": 26,
     "metadata": {},
     "output_type": "execute_result"
    }
   ],
   "source": [
    "c1.components.plus4_code"
   ]
  },
  {
   "cell_type": "code",
   "execution_count": 27,
   "id": "d93784a3-a847-4b47-a93f-9d6438e08ecd",
   "metadata": {},
   "outputs": [
    {
     "data": {
      "text/plain": [
       "'410'"
      ]
     },
     "execution_count": 27,
     "metadata": {},
     "output_type": "execute_result"
    }
   ],
   "source": [
    "c1.components.primary_number"
   ]
  },
  {
   "cell_type": "code",
   "execution_count": 28,
   "id": "c22c550e-ae7a-4cec-8e40-e7b12222726a",
   "metadata": {},
   "outputs": [],
   "source": [
    "c2 = c1.components"
   ]
  },
  {
   "cell_type": "code",
   "execution_count": 29,
   "id": "5f20867b-930e-442c-ba51-6b6c5938d782",
   "metadata": {},
   "outputs": [
    {
     "data": {
      "text/plain": [
       "'4th'"
      ]
     },
     "execution_count": 29,
     "metadata": {},
     "output_type": "execute_result"
    }
   ],
   "source": [
    "c2.street_name"
   ]
  },
  {
   "cell_type": "code",
   "execution_count": 30,
   "id": "5d1d502d-c231-4b2f-88e9-378561b634c8",
   "metadata": {},
   "outputs": [
    {
     "name": "stdout",
     "output_type": "stream",
     "text": [
      "Pretty printing has been turned OFF\n"
     ]
    }
   ],
   "source": [
    "pprint(dir(c2))"
   ]
  },
  {
   "cell_type": "code",
   "execution_count": 33,
   "id": "47f67249-e373-4c5b-bca3-e6385b9b8739",
   "metadata": {},
   "outputs": [],
   "source": [
    "def dump(obj):\n",
    "  for attr in dir(obj):\n",
    "    if not attr.startswith('__'):\n",
    "        print(\"obj.%s = %r\" % (attr, getattr(obj, attr)))"
   ]
  },
  {
   "cell_type": "code",
   "execution_count": 34,
   "id": "73e9e70c-8444-4887-bfc6-be4345b20f1e",
   "metadata": {},
   "outputs": [
    {
     "name": "stdout",
     "output_type": "stream",
     "text": [
      "obj.city_name = 'Chester'\n",
      "obj.default_city_name = 'Chester'\n",
      "obj.delivery_point = '10'\n",
      "obj.delivery_point_check_digit = '5'\n",
      "obj.extra_secondary_designator = None\n",
      "obj.extra_secondary_number = None\n",
      "obj.plus4_code = '9998'\n",
      "obj.pmb_designator = None\n",
      "obj.pmb_number = None\n",
      "obj.primary_number = '410'\n",
      "obj.secondary_designator = None\n",
      "obj.secondary_number = None\n",
      "obj.state_abbreviation = 'SD'\n",
      "obj.street_name = '4th'\n",
      "obj.street_postdirection = None\n",
      "obj.street_predirection = None\n",
      "obj.street_suffix = 'St'\n",
      "obj.urbanization = None\n",
      "obj.zipcode = '57016'\n"
     ]
    }
   ],
   "source": [
    "dump(c2)"
   ]
  },
  {
   "cell_type": "code",
   "execution_count": 36,
   "id": "5218fedf-266b-48dd-bc28-01d0f16e1f0d",
   "metadata": {},
   "outputs": [
    {
     "data": {
      "text/plain": [
       "'Y'"
      ]
     },
     "execution_count": 36,
     "metadata": {},
     "output_type": "execute_result"
    }
   ],
   "source": [
    "c1.analysis.active"
   ]
  },
  {
   "cell_type": "code",
   "execution_count": 37,
   "id": "3074693b-44bc-47f6-aa8a-f531b7e7b232",
   "metadata": {},
   "outputs": [
    {
     "data": {
      "text/plain": [
       "<smartystreets_python_sdk.us_street.metadata.Metadata object at 0x7fe38c3ceb10>"
      ]
     },
     "execution_count": 37,
     "metadata": {},
     "output_type": "execute_result"
    }
   ],
   "source": [
    "c1.metadata"
   ]
  },
  {
   "cell_type": "code",
   "execution_count": 38,
   "id": "bc7effdd-1649-4aac-b805-db433f2f1ac2",
   "metadata": {},
   "outputs": [
    {
     "name": "stdout",
     "output_type": "stream",
     "text": [
      "obj.building_default_indicator = None\n",
      "obj.carrier_route = 'C000'\n",
      "obj.congressional_district = 'AL'\n",
      "obj.coordinate_license = None\n",
      "obj.county_fips = '46079'\n",
      "obj.county_name = 'Lake'\n",
      "obj.elot_sequence = '0001'\n",
      "obj.elot_sort = 'A'\n",
      "obj.is_ews_match = None\n",
      "obj.latitude = 43.89482\n",
      "obj.longitude = -96.92767\n",
      "obj.obeys_dst = True\n",
      "obj.precision = 'Zip9'\n",
      "obj.rdi = 'Residential'\n",
      "obj.record_type = 'S'\n",
      "obj.time_zone = 'Central'\n",
      "obj.utc_offset = -6\n",
      "obj.zip_type = 'Standard'\n"
     ]
    }
   ],
   "source": [
    "dump(c1.metadata)"
   ]
  },
  {
   "cell_type": "code",
   "execution_count": null,
   "id": "f6adb910-c52d-4a47-9931-0a23803ecb1c",
   "metadata": {},
   "outputs": [],
   "source": []
  }
 ],
 "metadata": {
  "kernelspec": {
   "display_name": "Python 3 (ipykernel)",
   "language": "python",
   "name": "python3"
  },
  "language_info": {
   "codemirror_mode": {
    "name": "ipython",
    "version": 3
   },
   "file_extension": ".py",
   "mimetype": "text/x-python",
   "name": "python",
   "nbconvert_exporter": "python",
   "pygments_lexer": "ipython3",
   "version": "3.11.6"
  }
 },
 "nbformat": 4,
 "nbformat_minor": 5
}
