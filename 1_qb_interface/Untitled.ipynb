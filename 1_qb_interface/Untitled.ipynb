{
 "cells": [
  {
   "cell_type": "markdown",
   "id": "29907866-5ff5-42d1-8cf0-2bb3bad0483a",
   "metadata": {},
   "source": [
    "# ref\n",
    "\n",
    "- https://www.youtube.com/watch?v=CPbvxxslDTU&t=3s\n",
    "    - oauth2 overview\n"
   ]
  },
  {
   "cell_type": "markdown",
   "id": "3d9d637b-7908-4176-ae3e-f30c92833a9c",
   "metadata": {},
   "source": [
    "- https://developer.intuit.com/app/developer/qbo/docs/develop/sandboxes/manage-your-sandboxes"
   ]
  },
  {
   "cell_type": "markdown",
   "id": "e85b5d46-5b84-41bf-bdc1-a22cd788433e",
   "metadata": {},
   "source": [
    "- https://developer.intuit.com/app/developer/qbdesktop/docs/get-started/get-started-with-quickbooks-web-connector"
   ]
  },
  {
   "cell_type": "markdown",
   "id": "1cca4eb2-60f3-45dc-8e4b-09b5e22da3c6",
   "metadata": {},
   "source": [
    "https://www.youtube.com/watch?v=FG-fx7u8rLE&t=599s\n",
    " Using #Quickbooks API with #Python and #Pycharm | #183 (Small Business Automation #6) "
   ]
  },
  {
   "cell_type": "code",
   "execution_count": null,
   "id": "35c3cad8-a857-4651-9815-8b99078f3d1e",
   "metadata": {},
   "outputs": [],
   "source": []
  }
 ],
 "metadata": {
  "kernelspec": {
   "display_name": "Python 3 (ipykernel)",
   "language": "python",
   "name": "python3"
  },
  "language_info": {
   "codemirror_mode": {
    "name": "ipython",
    "version": 3
   },
   "file_extension": ".py",
   "mimetype": "text/x-python",
   "name": "python",
   "nbconvert_exporter": "python",
   "pygments_lexer": "ipython3",
   "version": "3.11.6"
  }
 },
 "nbformat": 4,
 "nbformat_minor": 5
}
